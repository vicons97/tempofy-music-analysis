{
 "cells": [
  {
   "cell_type": "code",
   "execution_count": 1,
   "metadata": {},
   "outputs": [
    {
     "name": "stdout",
     "output_type": "stream",
     "text": [
      "Temporary File Path: C:\\Users\\vicen\\AppData\\Local\\Temp\\tmppcpyn71d\n",
      "State Key: spotify_state\n"
     ]
    },
    {
     "data": {
      "text/plain": [
       "True"
      ]
     },
     "execution_count": 1,
     "metadata": {},
     "output_type": "execute_result"
    }
   ],
   "source": [
    "import random\n",
    "import string\n",
    "import webbrowser\n",
    "import requests\n",
    "import json\n",
    "import tempfile\n",
    "\n",
    "# Function to generate a random string\n",
    "def generate_random_string(length):\n",
    "    letters = string.ascii_letters + string.digits\n",
    "    return ''.join(random.choice(letters) for _ in range(length))\n",
    "\n",
    "# Function to store the state in a temporary file\n",
    "def store_state(state_key, state):\n",
    "    # Create a temporary file\n",
    "    with tempfile.NamedTemporaryFile(delete=False) as temp_file:\n",
    "        temp_file.write(state.encode())\n",
    "\n",
    "        # Store the temporary file path and state_key in a persistent storage\n",
    "        # Here, we are printing the temporary file path for demonstration purposes\n",
    "        #Return a file-like object that can be used as a temporary storage area\n",
    "        print(\"Temporary File Path:\", temp_file.name)\n",
    "        print(\"State Key:\", state_key)\n",
    "\n",
    "client_id = 'HERE GOES DEVELOPER CREDENTIALS'  #DEVELOR´S ID! DOSEN´T CHANGE\n",
    "redirect_uri = 'http://localhost:3000'\n",
    "state_key = 'spotify_state'\n",
    "\n",
    "state = generate_random_string(16)\n",
    "\n",
    "store_state(state_key, state)\n",
    "\n",
    "scope = 'user-top-read playlist-read-private playlist-read-collaborative'\n",
    "\n",
    "url = 'https://accounts.spotify.com/authorize'\n",
    "url += '?response_type=token'\n",
    "url += '&client_id=' + client_id\n",
    "url += '&scope=' + scope\n",
    "url += '&redirect_uri=' + redirect_uri\n",
    "url += '&state=' + state\n",
    "\n",
    "# Open the URL in the default web browser\n",
    "webbrowser.open(url)\n",
    "\n",
    "#comand line browser"
   ]
  }
 ],
 "metadata": {
  "kernelspec": {
   "display_name": "TempoFy",
   "language": "python",
   "name": "python3"
  },
  "language_info": {
   "codemirror_mode": {
    "name": "ipython",
    "version": 3
   },
   "file_extension": ".py",
   "mimetype": "text/x-python",
   "name": "python",
   "nbconvert_exporter": "python",
   "pygments_lexer": "ipython3",
   "version": "3.9.7"
  },
  "orig_nbformat": 4
 },
 "nbformat": 4,
 "nbformat_minor": 2
}
